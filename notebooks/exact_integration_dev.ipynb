{
 "cells": [
  {
   "cell_type": "code",
   "execution_count": 1,
   "id": "1f3779bd-a04c-40d3-bbeb-d5b021dbdc9b",
   "metadata": {},
   "outputs": [],
   "source": [
    "import sympy\n",
    "import numpy as np\n",
    "import dev_tools"
   ]
  },
  {
   "cell_type": "code",
   "execution_count": 2,
   "id": "679fb45f-66fb-4f03-b96e-75cfbebee583",
   "metadata": {},
   "outputs": [],
   "source": [
    "x, y = sympy.symbols('x y')\n",
    "m, n = sympy.symbols('m n', integer=True)\n",
    "c = sympy.symbols('c')"
   ]
  },
  {
   "cell_type": "code",
   "execution_count": 20,
   "id": "beccf349-2d24-43c2-ace6-f2e8c5715d83",
   "metadata": {},
   "outputs": [],
   "source": [
    "polynomial = dev_tools.polynomials.get_random_polynomial(degree=4, max_coeff=10.)"
   ]
  },
  {
   "cell_type": "code",
   "execution_count": 21,
   "id": "45ae5693-aea1-43ec-bcf9-259b4128e3d4",
   "metadata": {},
   "outputs": [],
   "source": [
    "p_monomial = c * x**m * y**n"
   ]
  },
  {
   "cell_type": "code",
   "execution_count": 26,
   "id": "4079cbb0-b0c1-4ffa-8f25-5cf81c5cc921",
   "metadata": {},
   "outputs": [
    {
     "data": {
      "text/latex": [
       "$\\displaystyle 8.48369191687937 x^{4} + 8.57494864809683 x^{3} y - 9.51699421918885 x^{3} + 7.87670886745937 x^{2} y^{2} - 3.5400422883021 x^{2} y - 4.11307353523962 x^{2} + 5.96326991897318 x y^{3} + 7.41971569860138 x y^{2} - 9.87132973959924 x y - 1.71072760994778 x - 9.20459509142649 y^{4} - 1.82203390157793 y^{3} - 9.83696088677537 y^{2} - 6.46052782104034 y - 1.06365113561688$"
      ],
      "text/plain": [
       "8.48369191687937*x**4 + 8.57494864809683*x**3*y - 9.51699421918885*x**3 + 7.87670886745937*x**2*y**2 - 3.5400422883021*x**2*y - 4.11307353523962*x**2 + 5.96326991897318*x*y**3 + 7.41971569860138*x*y**2 - 9.87132973959924*x*y - 1.71072760994778*x - 9.20459509142649*y**4 - 1.82203390157793*y**3 - 9.83696088677537*y**2 - 6.46052782104034*y - 1.06365113561688"
      ]
     },
     "execution_count": 26,
     "metadata": {},
     "output_type": "execute_result"
    }
   ],
   "source": [
    "p = 0.\n",
    "for monomial in polynomial.monomials:\n",
    "    p = p + p_monomial.subs([\n",
    "        (m, monomial.x_exponent),\n",
    "        (n, monomial.y_exponent),\n",
    "        (c, monomial.coefficient)])\n",
    "p"
   ]
  },
  {
   "cell_type": "markdown",
   "id": "b4879e26-f745-459d-be99-f2c70019913e",
   "metadata": {},
   "source": [
    "$$\n",
    "\\int_{\\Phi(\\hat{K})} f(x) dx\n",
    "=\n",
    "\\int_{\\hat{K}} f(\\Phi(\\hat{x})) \\mathrm{det} D\\Phi d\\hat{x}\n",
    "$$"
   ]
  },
  {
   "cell_type": "markdown",
   "id": "79cc96fb-6f3f-4c93-b40a-a98438bec233",
   "metadata": {},
   "source": [
    "$$\n",
    "\\Phi(\\hat{x}, \\hat{y}) = r_1 + \\hat{x} (r_2 - r_1) + \\hat{y} (r_3 - r_1)\n",
    "$$"
   ]
  },
  {
   "cell_type": "code",
   "execution_count": 6,
   "id": "4b80f2a3-b02d-46cb-b227-d4af7e7b34e9",
   "metadata": {},
   "outputs": [],
   "source": [
    "r_1x, r_1y = sympy.symbols('r_1x r_1y')\n",
    "r_2x, r_2y = sympy.symbols('r_2x r_2y')\n",
    "r_3x, r_3y = sympy.symbols('r_3x r_3y')\n",
    "x_hat, y_hat = sympy.symbols('x_hat y_hat')"
   ]
  },
  {
   "cell_type": "code",
   "execution_count": 7,
   "id": "dd2f092d-c0b3-4e3d-904b-4bb2ae103165",
   "metadata": {},
   "outputs": [
    {
     "data": {
      "text/latex": [
       "$\\displaystyle \\left[\\begin{matrix}r_{1x} + x_{hat} \\left(- r_{1x} + r_{2x}\\right) + y_{hat} \\left(- r_{1x} + r_{3x}\\right)\\\\r_{1y} + x_{hat} \\left(- r_{1y} + r_{2y}\\right) + y_{hat} \\left(- r_{1y} + r_{3y}\\right)\\end{matrix}\\right]$"
      ],
      "text/plain": [
       "Matrix([\n",
       "[r_1x + x_hat*(-r_1x + r_2x) + y_hat*(-r_1x + r_3x)],\n",
       "[r_1y + x_hat*(-r_1y + r_2y) + y_hat*(-r_1y + r_3y)]])"
      ]
     },
     "execution_count": 7,
     "metadata": {},
     "output_type": "execute_result"
    }
   ],
   "source": [
    "Phi = sympy.Matrix([\n",
    "    r_1x + x_hat*(r_2x - r_1x) + y_hat*(r_3x - r_1x),\n",
    "    r_1y + x_hat*(r_2y - r_1y) + y_hat*(r_3y - r_1y),\n",
    "])\n",
    "Phi"
   ]
  },
  {
   "cell_type": "code",
   "execution_count": 8,
   "id": "8c99678f-dbf8-47a8-8456-b4e420aff736",
   "metadata": {},
   "outputs": [],
   "source": [
    "jacobian = Phi.jacobian(sympy.Matrix([x_hat, y_hat]))"
   ]
  },
  {
   "cell_type": "code",
   "execution_count": 9,
   "id": "13decb8f-5fd1-473f-9820-25e3861caeed",
   "metadata": {},
   "outputs": [],
   "source": [
    "det_Phi = sympy.det(jacobian)"
   ]
  },
  {
   "cell_type": "code",
   "execution_count": 10,
   "id": "2df0c38b-1c3f-4479-a55b-9871492a41e4",
   "metadata": {},
   "outputs": [
    {
     "data": {
      "text/latex": [
       "$\\displaystyle r_{1x} r_{2y} - r_{1x} r_{3y} - r_{1y} r_{2x} + r_{1y} r_{3x} + r_{2x} r_{3y} - r_{2y} r_{3x}$"
      ],
      "text/plain": [
       "r_1x*r_2y - r_1x*r_3y - r_1y*r_2x + r_1y*r_3x + r_2x*r_3y - r_2y*r_3x"
      ]
     },
     "execution_count": 10,
     "metadata": {},
     "output_type": "execute_result"
    }
   ],
   "source": [
    "det_Phi"
   ]
  },
  {
   "cell_type": "code",
   "execution_count": 15,
   "id": "953bc3c4-45bc-4f8c-a875-64d56407501d",
   "metadata": {},
   "outputs": [],
   "source": [
    "def integrate_on_triangle(f: sympy.core.add.Add, coordinates: np.ndarray) -> float:\n",
    "    \"\"\"\n",
    "    f: a function depending on symbols x, y, i.e. f(x, y)\n",
    "    coordinates: numerical values of the triangle's vertices\n",
    "    \"\"\"\n",
    "    r1 = coordinates[0, :]\n",
    "    r2 = coordinates[1, :]\n",
    "    r3 = coordinates[2, :]\n",
    "\n",
    "    integrand = f.subs([\n",
    "        (x, Phi[0]),\n",
    "        (y, Phi[1])\n",
    "    ])\n",
    "\n",
    "    result = sympy.integrate(integrand, (y_hat, 1-x_hat, 1), (x_hat, 0, 1)) * det_Phi\n",
    "\n",
    "    numerical_result = result.subs([\n",
    "        (r_1x, r1[0]),\n",
    "        (r_1y, r1[1]),\n",
    "        (r_2x, r2[0]),\n",
    "        (r_2y, r2[1]),\n",
    "        (r_3x, r3[0]),\n",
    "        (r_3y, r3[1])\n",
    "    ]).evalf()\n",
    "\n",
    "    return float(numerical_result)"
   ]
  },
  {
   "cell_type": "code",
   "execution_count": 13,
   "id": "af56158b-af44-4d1a-b139-d587edb63708",
   "metadata": {},
   "outputs": [
    {
     "data": {
      "text/latex": [
       "$\\displaystyle 0.25$"
      ],
      "text/plain": [
       "0.250000000000000"
      ]
     },
     "execution_count": 13,
     "metadata": {},
     "output_type": "execute_result"
    }
   ],
   "source": [
    "k = sympy.symbols('k')\n",
    "result = sympy.integrate(k, (y, 0, 1-x), (x, 0, 1))\n",
    "result.subs(k, 0.5).evalf()"
   ]
  },
  {
   "cell_type": "code",
   "execution_count": 24,
   "id": "2a833d8e-958e-4873-a2d4-768a25458c23",
   "metadata": {},
   "outputs": [
    {
     "data": {
      "text/plain": [
       "-1.4891480669410093"
      ]
     },
     "execution_count": 24,
     "metadata": {},
     "output_type": "execute_result"
    }
   ],
   "source": [
    "integrate_on_triangle(f=p, coordinates=dev_tools.generate_random_triangle())"
   ]
  },
  {
   "cell_type": "code",
   "execution_count": null,
   "id": "93337461-36bc-4300-b2e2-fa4a954f6014",
   "metadata": {},
   "outputs": [],
   "source": []
  }
 ],
 "metadata": {
  "kernelspec": {
   "display_name": "Python 3 (ipykernel)",
   "language": "python",
   "name": "python3"
  },
  "language_info": {
   "codemirror_mode": {
    "name": "ipython",
    "version": 3
   },
   "file_extension": ".py",
   "mimetype": "text/x-python",
   "name": "python",
   "nbconvert_exporter": "python",
   "pygments_lexer": "ipython3",
   "version": "3.9.18"
  }
 },
 "nbformat": 4,
 "nbformat_minor": 5
}
